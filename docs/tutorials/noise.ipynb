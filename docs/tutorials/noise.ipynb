{
 "cells": [
  {
   "cell_type": "markdown",
   "id": "9f5333d9-4a17-4bb3-bbba-7bf61039361b",
   "metadata": {},
   "source": [
    "# Characterizing the noise"
   ]
  },
  {
   "cell_type": "code",
   "execution_count": null,
   "id": "bf0edfdc-e244-4a9e-a0de-f854a6b804e5",
   "metadata": {},
   "outputs": [],
   "source": []
  }
 ],
 "metadata": {
  "kernelspec": {
   "display_name": "Python 3 (ipykernel)",
   "language": "python",
   "name": "python3"
  },
  "language_info": {
   "codemirror_mode": {
    "name": "ipython",
    "version": 3
   },
   "file_extension": ".py",
   "mimetype": "text/x-python",
   "name": "python",
   "nbconvert_exporter": "python",
   "pygments_lexer": "ipython3",
   "version": "3.10.14"
  }
 },
 "nbformat": 4,
 "nbformat_minor": 5
}
