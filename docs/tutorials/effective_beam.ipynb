{
 "cells": [
  {
   "cell_type": "markdown",
   "id": "2f82f099-0fa8-47b9-9910-b5f9f8546b7e",
   "metadata": {},
   "source": [
    "# Effective Beam Response\n",
    "\n",
    "This notebook demonstrates how to **estimate the effective beam response** of an IViS reconstruction, which varies with the strength of the regularization (e.g., Laplacian filtering).\n",
    "\n",
    "## Download\n",
    "\n",
    "You can download the data directory `data_tutorials` using:\n",
    "\n",
    "```bash\n",
    "wget https://www.mso.anu.edu.au/~amarchal/shared/ivis/data_tutorials.zip\n",
    "unzip data_tutorials.zip -d data_tutorials\n",
    "rm data_tutorials.zip\n",
    "```\n",
    "\n",
    "Kindly provided by Enrico Di Teodoro (UniFI) and Karlie Noon (RSAA/ANU).\n",
    "\n",
    "## Method\n",
    "<div style=\"text-align: justify;\">\n",
    "    \n",
    "> We inject a delta function (point source) into an otherwise empty map and simulate visibilities using a realistic uv-coverage from a single MeerKAT beam.\n",
    ">\n",
    "> We then reconstruct the image using IViS to estimate the response.\n",
    ">\n",
    "> This response **differs from a traditional \"restored\" beam**, as it results from a non-linear reconstruction that depends on the intrinsic signal shape, signal-to-noise ratio, and the strength of spatial regularization.\n",
    ">\n",
    "> While this beam characterizes IViS’s response to a point source for a **given uv-sampling**, the effective resolution for extended emission may differ due to the nonlinearity of the reconstruction.\n",
    ">\n",
    "> We therefore **caution against interpreting this beam** as a global PSF of the reconstruction. Nonetheless, it provides a useful starting point for estimating the shape and size of a **theoretical effective beam**.\n",
    ">\n",
    "> The resulting image **can be reconvolved with a known kernel**, depending on the needs of the scientific application.\n",
    ">\n",
    "> Feel free to vary the scaling for the noise, or the ``lambda_r``, the hyper-parameter controling the Laplacian filtering, to see how the response varies.\n",
    "\n",
    "</div>"
   ]
  },
  {
   "cell_type": "code",
   "execution_count": 12,
   "id": "8e7d44e0-4d22-459a-9e94-b290aa3ee37a",
   "metadata": {},
   "outputs": [
    {
     "name": "stderr",
     "output_type": "stream",
     "text": [
      "[\u001b[38;5;214m2025-08-01 22:56:20 UTC\u001b[0m] \u001b[96m[IViS]\u001b[0m \u001b[92m[info]\u001b[0m [Initialize DataProcessor ]\n",
      "100%|██████████████████████████████████████████████████████████████████████████████████████████████████████████████████████████████████████████████████████████████████████████████████████████████████████████████████████████████████████████| 1/1 [00:00<00:00,  1.80it/s]\n"
     ]
    }
   ],
   "source": [
    "import glob\n",
    "from tqdm import tqdm as tqdm\n",
    "\n",
    "import numpy as np\n",
    "import matplotlib.pyplot as plt\n",
    "from astropy.io import fits\n",
    "from radio_beam import Beam\n",
    "from astropy import units as u\n",
    "from reproject import reproject_interp\n",
    "\n",
    "from ivis.io import DataProcessor\n",
    "from ivis.imager import Imager\n",
    "from ivis.logger import logger\n",
    "from ivis.utils import dutils\n",
    "\n",
    "from ivis.models import ClassicIViS\n",
    "\n",
    "path_ms = \"./data_tutorials/ivis_data_1beam/msl_mw/\" #directory of measurement sets    \n",
    "path_beams = \"./data_tutorials/ivis_data_1beam/BEAMS/\" #directory of primary beams\n",
    "path_sd = None #path single-dish data\n",
    "pathout = \"./data_tutorials/ivis_data_1beam/\" #path where data will be packaged and stored\n",
    "\n",
    "#REF WCS INPUT USER\n",
    "filename = \"./data_tutorials/ivis_data_1beam/MW-C10_mom0th_NHI.fits\"\n",
    "target_header = fits.open(filename)[0].header\n",
    "shape = (target_header[\"NAXIS2\"],target_header[\"NAXIS1\"])\n",
    "    \n",
    "#create data processor\n",
    "data_processor = DataProcessor(path_ms, path_beams, path_sd, pathout)\n",
    "\n",
    "# pre-compute pb and interpolation grids — this can be commented after first compute\n",
    "logger.disabled = True\n",
    "data_processor.compute_pb_and_grid(target_header, fitsname_pb=\"reproj_pb.fits\", fitsname_grid=\"grid_interp.fits\") \n",
    "logger.disabled = False\n",
    "\n",
    "pb, grid = data_processor.read_pb_and_grid(fitsname_pb=\"reproj_pb.fits\", fitsname_grid=\"grid_interp.fits\")\n",
    "\n",
    "#Dummy sd array\n",
    "sd = np.zeros(shape)\n",
    "#Dummy Beam sd\n",
    "beam_sd = Beam(1*u.deg, 1*u.deg, 1.e-12*u.deg)"
   ]
  },
  {
   "cell_type": "code",
   "execution_count": 2,
   "id": "83f78ca4-d105-4fb2-a234-90f67b241b4d",
   "metadata": {},
   "outputs": [
    {
     "name": "stderr",
     "output_type": "stream",
     "text": [
      "[\u001b[38;5;214m2025-08-01 22:46:20 UTC\u001b[0m] \u001b[96m[IViS]\u001b[0m \u001b[92m[info]\u001b[0m Processing single scheduling block.\n",
      "[\u001b[38;5;214m2025-08-01 22:46:20 UTC\u001b[0m] \u001b[96m[IViS]\u001b[0m \u001b[92m[info]\u001b[0m Number of MS files = 1\n",
      "[\u001b[38;5;214m2025-08-01 22:46:20 UTC\u001b[0m] \u001b[96m[IViS]\u001b[0m \u001b[92m[info]\u001b[0m Reading MS files with single thread.\n",
      "[\u001b[38;5;214m2025-08-01 22:46:20 UTC\u001b[0m] \u001b[96m[IViS]\u001b[0m \u001b[92m[info]\u001b[0m Processing file 1/1: ./data_tutorials/ivis_data_1beam/msl_mw/MW-C10_2_MW_chan_-32kms.ms\n",
      "[\u001b[38;5;214m2025-08-01 22:46:20 UTC\u001b[0m] \u001b[96m[IViS]\u001b[0m \u001b[92m[info]\u001b[0m Selected channel: 0 | Frequency: 1420557366.6050096 Hz | Velocity (LSRK): -32.00000000010202 km/s\n",
      "[\u001b[38;5;214m2025-08-01 22:46:21 UTC\u001b[0m] \u001b[96m[IViS]\u001b[0m \u001b[92m[info]\u001b[0m Extracted 1068720 valid baselines.\n",
      "[\u001b[38;5;214m2025-08-01 22:46:21 UTC\u001b[0m] \u001b[96m[IViS]\u001b[0m \u001b[92m[info]\u001b[0m Time for iteration 1: 0.38s, ETA: 0.00 minutes\n"
     ]
    }
   ],
   "source": [
    "#Read data\n",
    "vis_data = data_processor.read_vis_from_scratch(uvmin=0, uvmax=np.inf,\n",
    "                                                target_frequency=None,\n",
    "                                                target_channel=0,\n",
    "                                                extension=\".ms\",\n",
    "                                                blocks='single',\n",
    "                                                max_workers=1)"
   ]
  },
  {
   "cell_type": "markdown",
   "id": "eb08471a-92ec-4d30-ae0f-181bd4f2a2ef",
   "metadata": {},
   "source": [
    "### Injecting a 1 Jy point source at the center"
   ]
  },
  {
   "cell_type": "code",
   "execution_count": 3,
   "id": "37e8ee4a-bf3b-46d0-a1fa-0bbad337ce62",
   "metadata": {},
   "outputs": [],
   "source": [
    "cell_size = (np.abs(target_header[\"CDELT2\"]) *u.deg).to(u.arcsec).value\n",
    "sky_model = np.zeros(shape, dtype=np.float32)\n",
    "sky_model[shape[0] // 2, shape[1] // 2] = 1.0 / (cell_size ** 2)  # Jy / arcsec^2"
   ]
  },
  {
   "cell_type": "markdown",
   "id": "01190393-3ae7-4722-adaa-b706186d23f7",
   "metadata": {},
   "source": [
    "### Simulated visibilities (using IViS forward model)"
   ]
  },
  {
   "cell_type": "code",
   "execution_count": 4,
   "id": "5e69b96b-193a-4af1-b3f5-c2b43c34642c",
   "metadata": {},
   "outputs": [
    {
     "name": "stderr",
     "output_type": "stream",
     "text": [
      "[\u001b[38;5;214m2025-08-01 22:46:40 UTC\u001b[0m] \u001b[96m[IViS]\u001b[0m \u001b[92m[info]\u001b[0m [Initialize Imager        ]\n",
      "[\u001b[38;5;214m2025-08-01 22:46:40 UTC\u001b[0m] \u001b[96m[IViS]\u001b[0m \u001b[92m[info]\u001b[0m Number of iterations to be performed by the optimizer: 0\n",
      "[\u001b[38;5;214m2025-08-01 22:46:40 UTC\u001b[0m] \u001b[96m[IViS]\u001b[0m \u001b[93m[warning]\u001b[0m lambda_r = 0 - No spatial regularization.\n",
      "[\u001b[38;5;214m2025-08-01 22:46:40 UTC\u001b[0m] \u001b[96m[IViS]\u001b[0m \u001b[93m[warning]\u001b[0m lambda_sd = 0 - No short spacing correction (ignoring single dish data).\n",
      "[\u001b[38;5;214m2025-08-01 22:46:40 UTC\u001b[0m] \u001b[96m[IViS]\u001b[0m \u001b[93m[warning]\u001b[0m CUDA not available. Falling back on CPU.\n"
     ]
    }
   ],
   "source": [
    "#Model visibilities with IVis forward single frequency model\n",
    "image_processor = Imager(vis_data,      # visibilities\n",
    "                         pb,            # array of primary beams\n",
    "                         grid,          # array of interpolation grids\n",
    "                         None,            # single dish data in unit of Jy/arcsec^2\n",
    "                         None,       # beam of single-dish data in radio_beam format\n",
    "                         target_header, # header on which to image the data\n",
    "                         sky_model,   # init array of parameters\n",
    "                         0,       # maximum number of iterations\n",
    "                         0,     # hyper-parameter single-dish\n",
    "                         0,      # hyper-parameter regularization\n",
    "                         False,    # impose a positivity constaint\n",
    "                         0,        # device: 0 is GPU; \"cpu\" is CPU\n",
    "                         beam_workers=1)\n",
    "\n",
    "model_vis =  image_processor.forward_model(model=ClassicIViS())"
   ]
  },
  {
   "cell_type": "markdown",
   "id": "becc835d-a0c4-4c49-a90b-eb53aee804ea",
   "metadata": {},
   "source": [
    "### Adding realistic noise from the MeerKAT data beam"
   ]
  },
  {
   "cell_type": "code",
   "execution_count": 5,
   "id": "6f442e3e-06ff-4453-b961-e85cd40b26b1",
   "metadata": {},
   "outputs": [],
   "source": [
    "#Add noise\n",
    "fact=1 #Scale the noise with this if needed\n",
    "noise_real = np.random.normal(loc=0.0, scale=vis_data.sigma*fact)\n",
    "noise_imag = np.random.normal(loc=0.0, scale=vis_data.sigma*fact)\n",
    "noise = noise_real + 1j * noise_imag\n",
    "\n",
    "# Add realistic thermal noise to the model visibilities\n",
    "vis_data.data = model_vis + noise"
   ]
  },
  {
   "cell_type": "markdown",
   "id": "4174a5e5-6258-43b0-a6dc-0eb076c4d240",
   "metadata": {},
   "source": [
    "### Imaging using IViS"
   ]
  },
  {
   "cell_type": "code",
   "execution_count": 9,
   "id": "26bda616-7b71-4a55-8b12-6d58b41a43ac",
   "metadata": {},
   "outputs": [
    {
     "name": "stderr",
     "output_type": "stream",
     "text": [
      "[\u001b[38;5;214m2025-08-01 22:47:32 UTC\u001b[0m] \u001b[96m[IViS]\u001b[0m \u001b[92m[info]\u001b[0m [Initialize Imager        ]\n",
      "[\u001b[38;5;214m2025-08-01 22:47:32 UTC\u001b[0m] \u001b[96m[IViS]\u001b[0m \u001b[92m[info]\u001b[0m Number of iterations to be performed by the optimizer: 20\n",
      "[\u001b[38;5;214m2025-08-01 22:47:32 UTC\u001b[0m] \u001b[96m[IViS]\u001b[0m \u001b[93m[warning]\u001b[0m lambda_sd = 0 - No short spacing correction (ignoring single dish data).\n",
      "[\u001b[38;5;214m2025-08-01 22:47:32 UTC\u001b[0m] \u001b[96m[IViS]\u001b[0m \u001b[93m[warning]\u001b[0m CUDA not available. Falling back on CPU.\n",
      "[\u001b[38;5;214m2025-08-01 22:47:33 UTC\u001b[0m] \u001b[96m[IViS]\u001b[0m \u001b[92m[info]\u001b[0m Starting optimisation (using LBFGS-B)\n",
      "[\u001b[38;5;214m2025-08-01 22:47:33 UTC\u001b[0m] \u001b[96m[IViS]\u001b[0m \u001b[92m[info]\u001b[0m Optimizer bounded - Positivity == True\n",
      "[\u001b[38;5;214m2025-08-01 22:47:33 UTC\u001b[0m] \u001b[96m[IViS]\u001b[0m \u001b[93m[warning]\u001b[0m Optimizer bounded - Because there is noise in the data, it is generally not recommanded to add a positivity constaint.\n",
      "[\u001b[38;5;214m2025-08-01 22:47:38 UTC\u001b[0m] \u001b[96m[IViS]\u001b[0m \u001b[92m[info]\u001b[0m [PID 79891] Total cost: 1.15892e+06\n",
      "[\u001b[38;5;214m2025-08-01 22:47:41 UTC\u001b[0m] \u001b[96m[IViS]\u001b[0m \u001b[92m[info]\u001b[0m [PID 79891] Total cost: 3.38582e+09\n",
      "[\u001b[38;5;214m2025-08-01 22:47:42 UTC\u001b[0m] \u001b[96m[IViS]\u001b[0m \u001b[92m[info]\u001b[0m [PID 79891] Total cost: 1.11762e+06\n",
      "[\u001b[38;5;214m2025-08-01 22:47:43 UTC\u001b[0m] \u001b[96m[IViS]\u001b[0m \u001b[92m[info]\u001b[0m [PID 79891] Total cost: 1.10632e+06\n",
      "[\u001b[38;5;214m2025-08-01 22:47:44 UTC\u001b[0m] \u001b[96m[IViS]\u001b[0m \u001b[92m[info]\u001b[0m [PID 79891] Total cost: 1.09037e+06\n",
      "[\u001b[38;5;214m2025-08-01 22:47:45 UTC\u001b[0m] \u001b[96m[IViS]\u001b[0m \u001b[92m[info]\u001b[0m [PID 79891] Total cost: 1.07942e+06\n",
      "[\u001b[38;5;214m2025-08-01 22:47:46 UTC\u001b[0m] \u001b[96m[IViS]\u001b[0m \u001b[92m[info]\u001b[0m [PID 79891] Total cost: 1.07327e+06\n",
      "[\u001b[38;5;214m2025-08-01 22:47:47 UTC\u001b[0m] \u001b[96m[IViS]\u001b[0m \u001b[92m[info]\u001b[0m [PID 79891] Total cost: 1.07013e+06\n",
      "[\u001b[38;5;214m2025-08-01 22:47:48 UTC\u001b[0m] \u001b[96m[IViS]\u001b[0m \u001b[92m[info]\u001b[0m [PID 79891] Total cost: 1.06672e+06\n",
      "[\u001b[38;5;214m2025-08-01 22:47:49 UTC\u001b[0m] \u001b[96m[IViS]\u001b[0m \u001b[92m[info]\u001b[0m [PID 79891] Total cost: 1.06457e+06\n",
      "[\u001b[38;5;214m2025-08-01 22:47:50 UTC\u001b[0m] \u001b[96m[IViS]\u001b[0m \u001b[92m[info]\u001b[0m [PID 79891] Total cost: 1.06316e+06\n",
      "[\u001b[38;5;214m2025-08-01 22:47:51 UTC\u001b[0m] \u001b[96m[IViS]\u001b[0m \u001b[92m[info]\u001b[0m [PID 79891] Total cost: 1.06201e+06\n",
      "[\u001b[38;5;214m2025-08-01 22:47:52 UTC\u001b[0m] \u001b[96m[IViS]\u001b[0m \u001b[92m[info]\u001b[0m [PID 79891] Total cost: 1.06094e+06\n",
      "[\u001b[38;5;214m2025-08-01 22:47:53 UTC\u001b[0m] \u001b[96m[IViS]\u001b[0m \u001b[92m[info]\u001b[0m [PID 79891] Total cost: 1.05998e+06\n",
      "[\u001b[38;5;214m2025-08-01 22:47:54 UTC\u001b[0m] \u001b[96m[IViS]\u001b[0m \u001b[92m[info]\u001b[0m [PID 79891] Total cost: 1.05937e+06\n",
      "[\u001b[38;5;214m2025-08-01 22:47:56 UTC\u001b[0m] \u001b[96m[IViS]\u001b[0m \u001b[92m[info]\u001b[0m [PID 79891] Total cost: 1.05809e+06\n",
      "[\u001b[38;5;214m2025-08-01 22:47:57 UTC\u001b[0m] \u001b[96m[IViS]\u001b[0m \u001b[92m[info]\u001b[0m [PID 79891] Total cost: 1.0577e+06\n",
      "[\u001b[38;5;214m2025-08-01 22:47:58 UTC\u001b[0m] \u001b[96m[IViS]\u001b[0m \u001b[92m[info]\u001b[0m [PID 79891] Total cost: 1.05704e+06\n",
      "[\u001b[38;5;214m2025-08-01 22:47:59 UTC\u001b[0m] \u001b[96m[IViS]\u001b[0m \u001b[92m[info]\u001b[0m [PID 79891] Total cost: 1.05665e+06\n",
      "[\u001b[38;5;214m2025-08-01 22:48:00 UTC\u001b[0m] \u001b[96m[IViS]\u001b[0m \u001b[92m[info]\u001b[0m [PID 79891] Total cost: 1.05586e+06\n",
      "[\u001b[38;5;214m2025-08-01 22:48:02 UTC\u001b[0m] \u001b[96m[IViS]\u001b[0m \u001b[92m[info]\u001b[0m [PID 79891] Total cost: 1.05562e+06\n",
      "[\u001b[38;5;214m2025-08-01 22:48:03 UTC\u001b[0m] \u001b[96m[IViS]\u001b[0m \u001b[92m[info]\u001b[0m [PID 79891] Total cost: 1.05524e+06\n",
      "[\u001b[38;5;214m2025-08-01 22:48:03 UTC\u001b[0m] \u001b[96m[IViS]\u001b[0m \u001b[93m[warning]\u001b[0m multiply by 2 for ASKAP.\n"
     ]
    }
   ],
   "source": [
    "#user parameters\n",
    "max_its = 20\n",
    "lambda_sd = 0 #not relevant here\n",
    "lambda_r = 0.1 #Control the strength of the Laplacian filtering\n",
    "device = 0#\"cpu\" #0 is GPU and \"cpu\" is CPU\n",
    "positivity = True #Set to true because we know here the sky is positive for a point source\n",
    "\n",
    "#Initial parameters (zero array)\n",
    "init_params = np.zeros(shape, dtype=np.float32)\n",
    "\n",
    "#create image processor\n",
    "image_processor = Imager(vis_data,      # visibilities\n",
    "                         pb,            # array of primary beams\n",
    "                         grid,          # array of interpolation grids\n",
    "                         sd,            # single dish data in unit of Jy/arcsec^2\n",
    "                         beam_sd,       # beam of single-dish data in radio_beam format\n",
    "                         target_header, # header on which to image the data\n",
    "                         init_params,   # init array of parameters\n",
    "                         max_its,       # maximum number of iterations\n",
    "                         lambda_sd,     # hyper-parameter single-dish\n",
    "                         lambda_r,      # hyper-parameter regularization\n",
    "                         positivity,    # impose a positivity constaint\n",
    "                         device,        # device: 0 is GPU; \"cpu\" is CPU\n",
    "                         beam_workers=1)\n",
    "#get image\n",
    "model = ClassicIViS()\n",
    "result = image_processor.process(model=model, units=\"Jy/arcsec^2\") #\"Jy/arcsec^2\" or \"K\""
   ]
  },
  {
   "cell_type": "markdown",
   "id": "e9e1b548-8bf5-4a11-9b77-56e6d67ce853",
   "metadata": {},
   "source": [
    "## Zoom in / cutout at the center of the image"
   ]
  },
  {
   "cell_type": "code",
   "execution_count": 10,
   "id": "a44434f1-a629-4af3-aa16-b58c9088e487",
   "metadata": {},
   "outputs": [],
   "source": [
    "#Cutout\n",
    "ny, nx = shape\n",
    "cy, cx = ny // 2, nx // 2  # center coordinates\n",
    "\n",
    "zoom = 20  # pixels around center\n",
    "cutout = result[cy - zoom:cy + zoom + 1, cx - zoom:cx + zoom + 1]"
   ]
  },
  {
   "cell_type": "markdown",
   "id": "c4aa4a63-a163-435c-b656-a5da9eb94126",
   "metadata": {},
   "source": [
    "## Fitting an elliptical Gaussian model"
   ]
  },
  {
   "cell_type": "code",
   "execution_count": 11,
   "id": "73fa3d1f-c2ca-4dcc-a038-59ed5d12dfc1",
   "metadata": {},
   "outputs": [
    {
     "data": {
      "image/png": "[encoded data removed]",
      "text/plain": [
       "<Figure size 1000x400 with 4 Axes>"
      ]
     },
     "metadata": {},
     "output_type": "display_data"
    }
   ],
   "source": [
    "flux, Bmaj, Bmin, theta = dutils.fit_elliptical_gaussian(cutout, pixel_scale_arcsec=cell_size)"
   ]
  },
  {
   "cell_type": "code",
   "execution_count": null,
   "id": "46f6a9dc-15dc-4ad2-b323-e00d2ae193a9",
   "metadata": {},
   "outputs": [],
   "source": []
  }
 ],
 "metadata": {
  "kernelspec": {
   "display_name": "Python 3 (ipykernel)",
   "language": "python",
   "name": "python3"
  },
  "language_info": {
   "codemirror_mode": {
    "name": "ipython",
    "version": 3
   },
   "file_extension": ".py",
   "mimetype": "text/x-python",
   "name": "python",
   "nbconvert_exporter": "python",
   "pygments_lexer": "ipython3",
   "version": "3.10.14"
  }
 },
 "nbformat": 4,
 "nbformat_minor": 5
}
