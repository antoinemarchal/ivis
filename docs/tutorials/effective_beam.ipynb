{
 "cells": [
  {
   "cell_type": "markdown",
   "id": "2f82f099-0fa8-47b9-9910-b5f9f8546b7e",
   "metadata": {},
   "source": [
    "# Effective Beam Response\n",
    "\n",
    "This notebook demonstrates how to **estimate the effective beam response** of an IViS reconstruction, which varies with the strength of the regularization (e.g., Laplacian filtering).\n",
    "\n",
    "## Download\n",
    "\n",
    "You can download the data directory `data_tutorials` using:\n",
    "\n",
    "```bash\n",
    "wget https://www.mso.anu.edu.au/~amarchal/shared/ivis/data_tutorials.zip\n",
    "unzip data_tutorials.zip -d data_tutorials\n",
    "rm data_tutorials.zip\n",
    "```\n",
    "\n",
    "Kindly provided by Enrico Di Teodoro (UniFI) and Karlie Noon (RSAA/ANU).\n",
    "\n",
    "## Method\n",
    "<div style=\"text-align: justify;\">\n",
    "    \n",
    "> We inject a delta function (point source) into an otherwise empty map and simulate visibilities using a realistic uv-coverage from a single MeerKAT beam.\n",
    ">\n",
    "> We then reconstruct the image using IViS to estimate the response.\n",
    ">\n",
    "> This response **differs from a traditional \"restored\" beam**, as it results from a non-linear reconstruction that depends on the intrinsic signal shape, signal-to-noise ratio, and the strength of spatial regularization.\n",
    ">\n",
    "> While this beam characterizes IViS’s response to a point source for a **given uv-sampling**, the effective resolution for extended emission may differ due to the nonlinearity of the reconstruction.\n",
    ">\n",
    "> We therefore **caution against interpreting this beam** as a global PSF of the reconstruction. Nonetheless, it provides a useful starting point for estimating the shape and size of a **theoretical effective beam**.\n",
    ">\n",
    "> The resulting image **can be reconvolved with a known kernel**, depending on the needs of the scientific application.\n",
    ">\n",
    "> Feel free to vary the scaling for the noise, or the ``lambda_r``, the hyper-parameter controling the Laplacian filtering, to see how the response varies.\n",
    "\n",
    "</div>"
   ]
  },
  {
   "cell_type": "code",
   "execution_count": 43,
   "id": "8e7d44e0-4d22-459a-9e94-b290aa3ee37a",
   "metadata": {},
   "outputs": [
    {
     "name": "stderr",
     "output_type": "stream",
     "text": [
      "[\u001b[38;5;214m2025-08-23 01:35:20 UTC\u001b[0m] \u001b[96m[IViS]\u001b[0m \u001b[92m[info]\u001b[0m [Initialize DataProcessor ]\n",
      "100%|█████████████████████████████████████████████| 1/1 [00:00<00:00,  2.20it/s]\n"
     ]
    }
   ],
   "source": [
    "import glob\n",
    "from tqdm import tqdm as tqdm\n",
    "\n",
    "import numpy as np\n",
    "import matplotlib.pyplot as plt\n",
    "from astropy.io import fits\n",
    "from radio_beam import Beam\n",
    "from astropy import units as u\n",
    "from reproject import reproject_interp\n",
    "\n",
    "from ivis.io import DataProcessor\n",
    "from ivis.imager import Imager3D\n",
    "from ivis.logger import logger\n",
    "from ivis.utils import dutils\n",
    "from ivis.readers import CasacoreReader\n",
    "from ivis.types import VisIData\n",
    "\n",
    "from ivis.models import ClassicIViS3D\n",
    "\n",
    "path_ms = \"./data_tutorials/ivis_data_1beam/msl_mw/\" #directory of measurement sets    \n",
    "path_beams = \"./data_tutorials/ivis_data_1beam/BEAMS/\" #directory of primary beams\n",
    "path_sd = None #path single-dish data\n",
    "pathout = \"./data_tutorials/ivis_data_1beam/\" #path where data will be packaged and stored\n",
    "\n",
    "#REF WCS INPUT USER\n",
    "filename = \"./data_tutorials/ivis_data_1beam/MW-C10_mom0th_NHI.fits\"\n",
    "target_header = fits.open(filename)[0].header\n",
    "shape = (target_header[\"NAXIS2\"],target_header[\"NAXIS1\"])\n",
    "    \n",
    "#create data processor\n",
    "data_processor = DataProcessor(path_ms, path_beams, path_sd, pathout)\n",
    "\n",
    "# pre-compute pb and interpolation grids — this can be commented after first compute\n",
    "logger.disabled = True\n",
    "data_processor.compute_pb_and_grid(target_header, fitsname_pb=\"reproj_pb.fits\", fitsname_grid=\"grid_interp.fits\") \n",
    "logger.disabled = False\n",
    "\n",
    "pb, grid = data_processor.read_pb_and_grid(fitsname_pb=\"reproj_pb.fits\", fitsname_grid=\"grid_interp.fits\")\n",
    "\n",
    "#Dummy sd array\n",
    "sd = np.zeros(shape)\n",
    "#Dummy Beam sd\n",
    "beam_sd = Beam(1*u.deg, 1*u.deg, 1.e-12*u.deg)"
   ]
  },
  {
   "cell_type": "code",
   "execution_count": 44,
   "id": "83f78ca4-d105-4fb2-a234-90f67b241b4d",
   "metadata": {},
   "outputs": [
    {
     "name": "stderr",
     "output_type": "stream",
     "text": [
      "[\u001b[38;5;214m2025-08-23 01:35:21 UTC\u001b[0m] \u001b[96m[IViS]\u001b[0m \u001b[92m[info]\u001b[0m [BLOCK] Loading block from: ./data_tutorials/ivis_data_1beam/msl_mw/\n",
      "[\u001b[38;5;214m2025-08-23 01:35:21 UTC\u001b[0m] \u001b[96m[IViS]\u001b[0m \u001b[92m[info]\u001b[0m [BLOCK] Loading 1 beam(s) from: ./data_tutorials/ivis_data_1beam/msl_mw/\n",
      "[\u001b[38;5;214m2025-08-23 01:35:21 UTC\u001b[0m] \u001b[96m[IViS]\u001b[0m \u001b[92m[info]\u001b[0m [BLOCK] Parallel read with 4 workers (order-preserving; selective)\n",
      "[\u001b[38;5;214m2025-08-23 01:35:21 UTC\u001b[0m] \u001b[96m[IViS]\u001b[0m \u001b[92m[info]\u001b[0m     [MS] Opening: ./data_tutorials/ivis_data_1beam/msl_mw/MW-C10_2_MW_chan_-32kms.ms\n",
      "[\u001b[38;5;214m2025-08-23 01:35:21 UTC\u001b[0m] \u001b[96m[IViS]\u001b[0m \u001b[92m[info]\u001b[0m     [MS] Done: MW-C10_2_MW_chan_-32kms.ms  rows=1068720\n",
      "[\u001b[38;5;214m2025-08-23 01:35:21 UTC\u001b[0m] \u001b[96m[IViS]\u001b[0m \u001b[92m[info]\u001b[0m [BLOCK] Done: nchan=1, nbeam=1, nvis_max=1068720 (read 1/1 beams)\n"
     ]
    }
   ],
   "source": [
    "# -------------------\n",
    "# Read visibilities into VisIData dataclass\n",
    "# -------------------\n",
    "reader = CasacoreReader(\n",
    "    prefer_weight_spectrum=False,\n",
    "    keep_autocorr=False,\n",
    "    n_workers=4)\n",
    "\n",
    "I: VisIData = reader.read_blocks_I(\n",
    "    path_ms,\n",
    "    uvmin=0.0,\n",
    "    uvmax=np.inf,\n",
    "    chan_sel=slice(0, 1),\n",
    ")"
   ]
  },
  {
   "cell_type": "markdown",
   "id": "eb08471a-92ec-4d30-ae0f-181bd4f2a2ef",
   "metadata": {},
   "source": [
    "### Injecting a 1 Jy point source at the center"
   ]
  },
  {
   "cell_type": "code",
   "execution_count": 54,
   "id": "37e8ee4a-bf3b-46d0-a1fa-0bbad337ce62",
   "metadata": {},
   "outputs": [],
   "source": [
    "cell_size = (np.abs(target_header[\"CDELT2\"]) *u.deg).to(u.arcsec).value\n",
    "sky_model = np.zeros((1,shape[0],shape[1]), dtype=np.float32)\n",
    "sky_model[0][shape[0] // 2, shape[1] // 2] = 1.0 / (cell_size ** 2)  # Jy / arcsec^2"
   ]
  },
  {
   "cell_type": "markdown",
   "id": "01190393-3ae7-4722-adaa-b706186d23f7",
   "metadata": {},
   "source": [
    "### Simulated visibilities (using IViS forward model)"
   ]
  },
  {
   "cell_type": "code",
   "execution_count": 55,
   "id": "5e69b96b-193a-4af1-b3f5-c2b43c34642c",
   "metadata": {},
   "outputs": [
    {
     "name": "stderr",
     "output_type": "stream",
     "text": [
      "[\u001b[38;5;214m2025-08-23 01:36:53 UTC\u001b[0m] \u001b[96m[IViS]\u001b[0m \u001b[92m[info]\u001b[0m CUDA unavailable or invalid index; using CPU.\n",
      "[\u001b[38;5;214m2025-08-23 01:36:53 UTC\u001b[0m] \u001b[96m[IViS]\u001b[0m \u001b[92m[info]\u001b[0m CUDA unavailable or invalid index; using CPU.\n",
      "[\u001b[38;5;214m2025-08-23 01:36:53 UTC\u001b[0m] \u001b[96m[IViS]\u001b[0m \u001b[92m[info]\u001b[0m [Initialize Imager3D       ]\n",
      "[\u001b[38;5;214m2025-08-23 01:36:53 UTC\u001b[0m] \u001b[96m[IViS]\u001b[0m \u001b[92m[info]\u001b[0m Number of iterations to be performed by the optimizer: 0\n",
      "[\u001b[38;5;214m2025-08-23 01:36:53 UTC\u001b[0m] \u001b[96m[IViS]\u001b[0m \u001b[93m[warning]\u001b[0m lambda_sd = 0 — No short-spacing correction.\n",
      "[\u001b[38;5;214m2025-08-23 01:36:53 UTC\u001b[0m] \u001b[96m[IViS]\u001b[0m \u001b[92m[info]\u001b[0m Optimizer not bounded - Positivity == False\n"
     ]
    }
   ],
   "source": [
    "#Model visibilities with IVis forward single frequency model\n",
    "image_processor = Imager3D(I,      # visibilities\n",
    "                         pb,            # array of primary beams\n",
    "                         grid,          # array of interpolation grids\n",
    "                         None,            # single dish data in unit of Jy/arcsec^2\n",
    "                         None,       # beam of single-dish data in radio_beam format\n",
    "                         target_header, # header on which to image the data\n",
    "                         sky_model,   # init array of parameters\n",
    "                         0,       # maximum number of iterations\n",
    "                         0,     # hyper-parameter single-dish\n",
    "                         False,    # impose a positivity constaint\n",
    "                         0,        # device: 0 is GPU; \"cpu\" is CPU\n",
    "                         0,\n",
    "                         beam_workers=1)\n",
    "\n",
    "model = ClassicIViS3D()\n",
    "model_vis =  image_processor.forward_model(model=model)"
   ]
  },
  {
   "cell_type": "markdown",
   "id": "becc835d-a0c4-4c49-a90b-eb53aee804ea",
   "metadata": {},
   "source": [
    "### Adding realistic noise from the MeerKAT data beam"
   ]
  },
  {
   "cell_type": "code",
   "execution_count": 62,
   "id": "6f442e3e-06ff-4453-b961-e85cd40b26b1",
   "metadata": {},
   "outputs": [],
   "source": [
    "#Add noise\n",
    "fact=1 #Scale the noise with this if needed\n",
    "noise_real = np.random.normal(loc=0.0, scale=I.sigma_I*fact)\n",
    "noise_imag = np.random.normal(loc=0.0, scale=I.sigma_I*fact)\n",
    "noise = noise_real + 1j * noise_imag\n",
    "\n",
    "# Add realistic thermal noise to the model visibilities\n",
    "I.data_I = model_vis + noise"
   ]
  },
  {
   "cell_type": "markdown",
   "id": "4174a5e5-6258-43b0-a6dc-0eb076c4d240",
   "metadata": {},
   "source": [
    "### Imaging using IViS"
   ]
  },
  {
   "cell_type": "code",
   "execution_count": 66,
   "id": "26bda616-7b71-4a55-8b12-6d58b41a43ac",
   "metadata": {},
   "outputs": [
    {
     "name": "stderr",
     "output_type": "stream",
     "text": [
      "[\u001b[38;5;214m2025-08-23 01:39:46 UTC\u001b[0m] \u001b[96m[IViS]\u001b[0m \u001b[92m[info]\u001b[0m CUDA unavailable or invalid index; using CPU.\n",
      "[\u001b[38;5;214m2025-08-23 01:39:46 UTC\u001b[0m] \u001b[96m[IViS]\u001b[0m \u001b[92m[info]\u001b[0m CUDA unavailable or invalid index; using CPU.\n",
      "[\u001b[38;5;214m2025-08-23 01:39:46 UTC\u001b[0m] \u001b[96m[IViS]\u001b[0m \u001b[92m[info]\u001b[0m [Initialize Imager3D       ]\n",
      "[\u001b[38;5;214m2025-08-23 01:39:46 UTC\u001b[0m] \u001b[96m[IViS]\u001b[0m \u001b[92m[info]\u001b[0m Number of iterations to be performed by the optimizer: 20\n",
      "[\u001b[38;5;214m2025-08-23 01:39:46 UTC\u001b[0m] \u001b[96m[IViS]\u001b[0m \u001b[93m[warning]\u001b[0m lambda_sd = 0 — No short-spacing correction.\n",
      "[\u001b[38;5;214m2025-08-23 01:39:46 UTC\u001b[0m] \u001b[96m[IViS]\u001b[0m \u001b[92m[info]\u001b[0m Optimizer bounded - Positivity == True\n",
      "[\u001b[38;5;214m2025-08-23 01:39:46 UTC\u001b[0m] \u001b[96m[IViS]\u001b[0m \u001b[93m[warning]\u001b[0m Optimizer bounded - Because there is noise in the data, it is generally not recommanded to add a positivity constaint.\n",
      "[\u001b[38;5;214m2025-08-23 01:39:47 UTC\u001b[0m] \u001b[96m[IViS]\u001b[0m \u001b[92m[info]\u001b[0m Starting optimisation: SciPy L-BFGS-B (CPU optimizer), cost on cpu\n",
      "[\u001b[38;5;214m2025-08-23 01:39:49 UTC\u001b[0m] \u001b[96m[IViS]\u001b[0m \u001b[92m[info]\u001b[0m [PID 34145] Total cost: 1.42734e+06\n",
      "[\u001b[38;5;214m2025-08-23 01:39:53 UTC\u001b[0m] \u001b[96m[IViS]\u001b[0m \u001b[92m[info]\u001b[0m [PID 34145] Total cost: 1.39178e+10\n",
      "[\u001b[38;5;214m2025-08-23 01:39:53 UTC\u001b[0m] \u001b[96m[IViS]\u001b[0m \u001b[92m[info]\u001b[0m [PID 34145] Total cost: 1.27128e+06\n",
      "[\u001b[38;5;214m2025-08-23 01:39:54 UTC\u001b[0m] \u001b[96m[IViS]\u001b[0m \u001b[92m[info]\u001b[0m [PID 34145] Total cost: 1.23403e+06\n",
      "[\u001b[38;5;214m2025-08-23 01:39:55 UTC\u001b[0m] \u001b[96m[IViS]\u001b[0m \u001b[92m[info]\u001b[0m [PID 34145] Total cost: 1.19098e+06\n",
      "[\u001b[38;5;214m2025-08-23 01:39:56 UTC\u001b[0m] \u001b[96m[IViS]\u001b[0m \u001b[92m[info]\u001b[0m [PID 34145] Total cost: 1.16885e+06\n",
      "[\u001b[38;5;214m2025-08-23 01:39:56 UTC\u001b[0m] \u001b[96m[IViS]\u001b[0m \u001b[92m[info]\u001b[0m [PID 34145] Total cost: 1.1577e+06\n",
      "[\u001b[38;5;214m2025-08-23 01:39:57 UTC\u001b[0m] \u001b[96m[IViS]\u001b[0m \u001b[92m[info]\u001b[0m [PID 34145] Total cost: 1.15404e+06\n",
      "[\u001b[38;5;214m2025-08-23 01:39:58 UTC\u001b[0m] \u001b[96m[IViS]\u001b[0m \u001b[92m[info]\u001b[0m [PID 34145] Total cost: 1.14925e+06\n",
      "[\u001b[38;5;214m2025-08-23 01:39:59 UTC\u001b[0m] \u001b[96m[IViS]\u001b[0m \u001b[92m[info]\u001b[0m [PID 34145] Total cost: 1.14708e+06\n",
      "[\u001b[38;5;214m2025-08-23 01:40:00 UTC\u001b[0m] \u001b[96m[IViS]\u001b[0m \u001b[92m[info]\u001b[0m [PID 34145] Total cost: 1.14538e+06\n",
      "[\u001b[38;5;214m2025-08-23 01:40:01 UTC\u001b[0m] \u001b[96m[IViS]\u001b[0m \u001b[92m[info]\u001b[0m [PID 34145] Total cost: 1.14452e+06\n",
      "[\u001b[38;5;214m2025-08-23 01:40:01 UTC\u001b[0m] \u001b[96m[IViS]\u001b[0m \u001b[92m[info]\u001b[0m [PID 34145] Total cost: 1.14322e+06\n",
      "[\u001b[38;5;214m2025-08-23 01:40:02 UTC\u001b[0m] \u001b[96m[IViS]\u001b[0m \u001b[92m[info]\u001b[0m [PID 34145] Total cost: 1.14242e+06\n",
      "[\u001b[38;5;214m2025-08-23 01:40:03 UTC\u001b[0m] \u001b[96m[IViS]\u001b[0m \u001b[92m[info]\u001b[0m [PID 34145] Total cost: 1.14149e+06\n",
      "[\u001b[38;5;214m2025-08-23 01:40:04 UTC\u001b[0m] \u001b[96m[IViS]\u001b[0m \u001b[92m[info]\u001b[0m [PID 34145] Total cost: 1.14082e+06\n",
      "[\u001b[38;5;214m2025-08-23 01:40:05 UTC\u001b[0m] \u001b[96m[IViS]\u001b[0m \u001b[92m[info]\u001b[0m [PID 34145] Total cost: 1.14023e+06\n",
      "[\u001b[38;5;214m2025-08-23 01:40:06 UTC\u001b[0m] \u001b[96m[IViS]\u001b[0m \u001b[92m[info]\u001b[0m [PID 34145] Total cost: 1.13973e+06\n",
      "[\u001b[38;5;214m2025-08-23 01:40:07 UTC\u001b[0m] \u001b[96m[IViS]\u001b[0m \u001b[92m[info]\u001b[0m [PID 34145] Total cost: 1.13904e+06\n",
      "[\u001b[38;5;214m2025-08-23 01:40:08 UTC\u001b[0m] \u001b[96m[IViS]\u001b[0m \u001b[92m[info]\u001b[0m [PID 34145] Total cost: 1.13874e+06\n",
      "[\u001b[38;5;214m2025-08-23 01:40:08 UTC\u001b[0m] \u001b[96m[IViS]\u001b[0m \u001b[92m[info]\u001b[0m [PID 34145] Total cost: 1.13837e+06\n",
      "[\u001b[38;5;214m2025-08-23 01:40:09 UTC\u001b[0m] \u001b[96m[IViS]\u001b[0m \u001b[92m[info]\u001b[0m [PID 34145] Total cost: 1.13809e+06\n",
      "[\u001b[38;5;214m2025-08-23 01:40:09 UTC\u001b[0m] \u001b[96m[IViS]\u001b[0m \u001b[93m[warning]\u001b[0m Multiply by 2 for ASKAP if needed.\n"
     ]
    }
   ],
   "source": [
    "#user parameters\n",
    "max_its = 20\n",
    "lambda_sd = 0 #not relevant here\n",
    "lambda_r = 1 #Control the strength of the Laplacian filtering\n",
    "cost_device = 0#\"cpu\" #0 is GPU and \"cpu\" is CPU\n",
    "optim_device = 0\n",
    "positivity = True #Set to true because we know here the sky is positive for a point source\n",
    "\n",
    "#Initial parameters (zero array)\n",
    "init_params = np.zeros((1,shape[0],shape[1]), dtype=np.float32)\n",
    "\n",
    "#create image processor\n",
    "image_processor = Imager3D(I,      # visibilities\n",
    "                         pb,            # array of primary beams\n",
    "                         grid,          # array of interpolation grids\n",
    "                         sd,            # single dish data in unit of Jy/arcsec^2\n",
    "                         beam_sd,       # beam of single-dish data in radio_beam format\n",
    "                         target_header, # header on which to image the data\n",
    "                         init_params,   # init array of parameters\n",
    "                         max_its,       # maximum number of iterations\n",
    "                         lambda_sd,     # hyper-parameter single-dish\n",
    "                         positivity,    # impose a positivity constaint\n",
    "                         cost_device,        # device: 0 is GPU; \"cpu\" is CPU\n",
    "                         optim_device,\n",
    "                         beam_workers=1)\n",
    "#get image\n",
    "model = ClassicIViS3D(lambda_r=lambda_r)\n",
    "result = image_processor.process(model=model, units=\"Jy/arcsec^2\") #\"Jy/arcsec^2\" or \"K\""
   ]
  },
  {
   "cell_type": "markdown",
   "id": "e9e1b548-8bf5-4a11-9b77-56e6d67ce853",
   "metadata": {},
   "source": [
    "## Zoom in / cutout at the center of the image"
   ]
  },
  {
   "cell_type": "code",
   "execution_count": 67,
   "id": "a44434f1-a629-4af3-aa16-b58c9088e487",
   "metadata": {},
   "outputs": [],
   "source": [
    "#Cutout\n",
    "ny, nx = shape\n",
    "cy, cx = ny // 2, nx // 2  # center coordinates\n",
    "\n",
    "zoom = 20  # pixels around center\n",
    "cutout = result[0][cy - zoom:cy + zoom + 1, cx - zoom:cx + zoom + 1]"
   ]
  },
  {
   "cell_type": "markdown",
   "id": "c4aa4a63-a163-435c-b656-a5da9eb94126",
   "metadata": {},
   "source": [
    "## Fitting an elliptical Gaussian model"
   ]
  },
  {
   "cell_type": "code",
   "execution_count": 68,
   "id": "73fa3d1f-c2ca-4dcc-a038-59ed5d12dfc1",
   "metadata": {},
   "outputs": [
    {
     "data": {
      "image/png": "[encoded data removed]",
      "text/plain": [
       "<Figure size 1000x400 with 4 Axes>"
      ]
     },
     "metadata": {},
     "output_type": "display_data"
    }
   ],
   "source": [
    "flux, Bmaj, Bmin, theta = dutils.fit_elliptical_gaussian(cutout, pixel_scale_arcsec=cell_size)"
   ]
  },
  {
   "cell_type": "code",
   "execution_count": null,
   "id": "c6bc5f0b-13c2-4f75-b7d4-568aab620af2",
   "metadata": {},
   "outputs": [],
   "source": []
  }
 ],
 "metadata": {
  "kernelspec": {
   "display_name": "Python 3 (ipykernel)",
   "language": "python",
   "name": "python3"
  },
  "language_info": {
   "codemirror_mode": {
    "name": "ipython",
    "version": 3
   },
   "file_extension": ".py",
   "mimetype": "text/x-python",
   "name": "python",
   "nbconvert_exporter": "python",
   "pygments_lexer": "ipython3",
   "version": "3.10.14"
  }
 },
 "nbformat": 4,
 "nbformat_minor": 5
}
